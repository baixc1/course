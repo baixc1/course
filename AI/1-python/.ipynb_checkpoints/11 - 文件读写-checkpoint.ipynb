{
 "cells": [
  {
   "cell_type": "markdown",
   "metadata": {},
   "source": [
    "`open`\n",
    "\n",
    " `w - write`\n",
    " `a - append`\n",
    " `read`\n",
    " `write`\n",
    " \n",
    " `With 语句和上下文管理器`\n",
    " \n",
    " `__enter__`\n",
    " `__exit__`"
   ]
  }
 ],
 "metadata": {
  "kernelspec": {
   "display_name": "Python 3",
   "language": "python",
   "name": "python3"
  },
  "language_info": {
   "codemirror_mode": {
    "name": "ipython",
    "version": 3
   },
   "file_extension": ".py",
   "mimetype": "text/x-python",
   "name": "python",
   "nbconvert_exporter": "python",
   "pygments_lexer": "ipython3",
   "version": "3.6.5"
  }
 },
 "nbformat": 4,
 "nbformat_minor": 2
}
